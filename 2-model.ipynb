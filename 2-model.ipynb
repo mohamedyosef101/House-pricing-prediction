{
 "cells": [
  {
   "cell_type": "markdown",
   "metadata": {},
   "source": [
    "# House Prices Prediction Model\n",
    "In the last notebook, we did some exploratory data analysis. Now, we're going to modeling directly.\n",
    "\n",
    "![Abstract houses](https://storage.googleapis.com/kaggle-media/competitions/House%20Prices/kaggle_5407_media_housesbanner.png)\n",
    "\n",
    "<br>\n",
    "\n",
    "#### >> [Copy this notebook](https://www.kaggle.com/code/mohamedyosef101/house-prices-prediction)\n",
    "\n",
    "<hr>"
   ]
  },
  {
   "cell_type": "markdown",
   "metadata": {},
   "source": [
    "# Set up\n",
    "- Import the libraries\n",
    "- Load the data"
   ]
  },
  {
   "cell_type": "code",
   "execution_count": 1,
   "metadata": {},
   "outputs": [],
   "source": [
    "import pandas as pd\n",
    "import numpy as np\n",
    "import matplotlib.pyplot as plt\n",
    "import seaborn as sns\n",
    "\n",
    "# load the data\n",
    "trainData = pd.read_csv('data/train.csv')\n",
    "testData = pd.read_csv('data/test.csv')\n",
    "submission = pd.read_csv('data/sample_submission.csv')"
   ]
  },
  {
   "cell_type": "markdown",
   "metadata": {},
   "source": [
    "# Step 1: Handling missing values\n",
    "Just to be the same page, this is my missing value table that I've created in the EDA."
   ]
  },
  {
   "cell_type": "code",
   "execution_count": 2,
   "metadata": {},
   "outputs": [
    {
     "name": "stdout",
     "output_type": "stream",
     "text": [
      "              Missing_counts   Percent\n",
      "PoolQC                  1453  0.995205\n",
      "MiscFeature             1406  0.963014\n",
      "Alley                   1369  0.937671\n",
      "Fence                   1179  0.807534\n",
      "MasVnrType               872  0.597260\n",
      "FireplaceQu              690  0.472603\n",
      "LotFrontage              259  0.177397\n",
      "GarageType                81  0.055479\n",
      "GarageYrBlt               81  0.055479\n",
      "GarageFinish              81  0.055479\n",
      "GarageQual                81  0.055479\n",
      "GarageCond                81  0.055479\n",
      "BsmtFinType2              38  0.026027\n",
      "BsmtExposure              38  0.026027\n",
      "BsmtFinType1              37  0.025342\n",
      "BsmtCond                  37  0.025342\n",
      "BsmtQual                  37  0.025342\n",
      "MasVnrArea                 8  0.005479\n",
      "Electrical                 1  0.000685\n"
     ]
    }
   ],
   "source": [
    "def get_missing_value_counts(data_frame):\n",
    "    missing_counts = data_frame.isnull().sum()\n",
    "    missing_counts = (missing_counts[missing_counts > 0]).sort_values(ascending=False)\n",
    "    \n",
    "    percent = data_frame.isnull().sum()/data_frame.isnull().count()\n",
    "    percent = (percent[percent > 0]).sort_values(ascending=False)\n",
    "    \n",
    "    missing_data = pd.concat([missing_counts, percent], axis=1, keys=['Missing_counts', 'Percent'])\n",
    "    return missing_data\n",
    "\n",
    "train_missing_values = get_missing_value_counts(trainData)\n",
    "print(train_missing_values)"
   ]
  },
  {
   "cell_type": "markdown",
   "metadata": {},
   "source": [
    "> Since it is the action time, I'll remove all features with more than 81 missing value."
   ]
  },
  {
   "cell_type": "code",
   "execution_count": 3,
   "metadata": {},
   "outputs": [
    {
     "data": {
      "text/plain": [
       "0"
      ]
     },
     "execution_count": 3,
     "metadata": {},
     "output_type": "execute_result"
    }
   ],
   "source": [
    "trainData = trainData.drop((train_missing_values[train_missing_values['Missing_counts'] > 81]).index,axis=1)\n",
    "trainData = trainData.apply(lambda x:x.fillna(x.value_counts().index[0]))\n",
    "trainData.isnull().sum().max()"
   ]
  },
  {
   "cell_type": "markdown",
   "metadata": {},
   "source": [
    "**Let's address the missing values in the test data - we cannot drop rows.**"
   ]
  },
  {
   "cell_type": "code",
   "execution_count": 4,
   "metadata": {},
   "outputs": [],
   "source": [
    "test_missing_values = get_missing_value_counts(testData)\n",
    "testData = testData.drop((test_missing_values[test_missing_values['Missing_counts'] > 81]).index,axis=1)\n",
    "testData = testData.apply(lambda x:x.fillna(x.value_counts().index[0]))"
   ]
  },
  {
   "cell_type": "markdown",
   "metadata": {},
   "source": [
    "# Step 2: Data Preprocessing\n",
    "Get the data ready for the model\n",
    "\n",
    "### 2.1 Remove the identifiers"
   ]
  },
  {
   "cell_type": "code",
   "execution_count": 5,
   "metadata": {},
   "outputs": [],
   "source": [
    "trainData.drop(\"Id\", axis = 1, inplace = True)\n",
    "testData.drop(\"Id\", axis = 1, inplace = True)"
   ]
  },
  {
   "cell_type": "markdown",
   "metadata": {},
   "source": [
    "### 2.2 Encoding Categorical Variables"
   ]
  },
  {
   "cell_type": "code",
   "execution_count": 6,
   "metadata": {},
   "outputs": [
    {
     "name": "stdout",
     "output_type": "stream",
     "text": [
      "done\n"
     ]
    }
   ],
   "source": [
    "from sklearn.preprocessing import LabelEncoder\n",
    "cat_cols = trainData.select_dtypes(include='object').columns\n",
    "\n",
    "for c in cat_cols:\n",
    "    lbl = LabelEncoder()\n",
    "    lbl.fit(list(trainData[c].values)) \n",
    "    trainData[c] = lbl.transform(list(trainData[c].values))\n",
    "    testData[c] = lbl.transform(list(testData[c].values))\n",
    "\n",
    "print(\"done\")"
   ]
  },
  {
   "cell_type": "markdown",
   "metadata": {},
   "source": [
    "### 2.3 Remove outliers"
   ]
  },
  {
   "cell_type": "code",
   "execution_count": 7,
   "metadata": {},
   "outputs": [],
   "source": [
    "outliers = trainData[(trainData['GrLivArea']>4000) & (trainData['SalePrice']<300000)].index \n",
    "train = trainData.drop(outliers)"
   ]
  },
  {
   "cell_type": "markdown",
   "metadata": {},
   "source": [
    "### 2.4 Split the data"
   ]
  },
  {
   "cell_type": "code",
   "execution_count": 8,
   "metadata": {},
   "outputs": [],
   "source": [
    "x_train = trainData.drop('SalePrice', axis=1)\n",
    "y_train = trainData['SalePrice']"
   ]
  },
  {
   "cell_type": "markdown",
   "metadata": {},
   "source": [
    "# Step 3: Model building\n",
    "Maybe you've already explored some notebooks and learned that achieving results quickly can be done using XGBoost. Since you want reproducibility, let's begin with XGBoost for our modeling process.\n",
    "\n",
    "But, If you have any specific questions or need guidance on setting up the XGBoost model, please feel free to ask."
   ]
  },
  {
   "cell_type": "code",
   "execution_count": 9,
   "metadata": {},
   "outputs": [
    {
     "name": "stdout",
     "output_type": "stream",
     "text": [
      "0.04013432145719167\n"
     ]
    }
   ],
   "source": [
    "import xgboost as xgb\n",
    "from sklearn.metrics import mean_squared_error\n",
    "from sklearn.model_selection import KFold, cross_val_score\n",
    "\n",
    "model_xgb = xgb.XGBRegressor(n_estimators=2200)\n",
    "n_folds = 5\n",
    "\n",
    "def rmsle(model):\n",
    "    kf = KFold(n_folds, shuffle=True, random_state=42).get_n_splits(train.values)\n",
    "    rmse = np.sqrt(-cross_val_score(model, train.values, y_train, scoring=\"neg_mean_squared_error\", cv = kf))\n",
    "    return(rmse)\n",
    "\n",
    "def rmsle(y, y_pred):\n",
    "    return np.sqrt(mean_squared_error(y, y_pred))\n",
    "\n",
    "model_xgb.fit(x_train, y_train)\n",
    "xgb_train_pred = model_xgb.predict(x_train)\n",
    "xgb_pred = model_xgb.predict(testData)\n",
    "print(rmsle(y_train, xgb_train_pred))"
   ]
  },
  {
   "cell_type": "markdown",
   "metadata": {},
   "source": [
    "### The submission"
   ]
  },
  {
   "cell_type": "code",
   "execution_count": 11,
   "metadata": {},
   "outputs": [],
   "source": [
    "original_test = pd.read_csv('data/test.csv')\n",
    "sub = pd.DataFrame()\n",
    "sub['Id'] = original_test['Id'].values\n",
    "sub['SalePrice'] = xgb_pred\n",
    "sub.to_csv('submission.csv',index=False)"
   ]
  },
  {
   "cell_type": "markdown",
   "metadata": {},
   "source": [
    "### The Score is 0.14875\n",
    "There is a posibility of a higher score 0.044 but it lack of sense and nobody understand the real reason behind it. So I'll keep this score."
   ]
  }
 ],
 "metadata": {
  "kernelspec": {
   "display_name": "Python 3",
   "language": "python",
   "name": "python3"
  },
  "language_info": {
   "codemirror_mode": {
    "name": "ipython",
    "version": 3
   },
   "file_extension": ".py",
   "mimetype": "text/x-python",
   "name": "python",
   "nbconvert_exporter": "python",
   "pygments_lexer": "ipython3",
   "version": "3.11.4"
  },
  "orig_nbformat": 4
 },
 "nbformat": 4,
 "nbformat_minor": 2
}

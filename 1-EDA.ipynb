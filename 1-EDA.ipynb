{
 "cells": [
  {
   "cell_type": "markdown",
   "metadata": {},
   "source": [
    "# House Prices - Exploratory Data Analysis\n",
    "Understanding data and what we already have is the most important step in any data science project. So, let's see what we have.\n",
    "\n",
    "![Abstract houses](https://storage.googleapis.com/kaggle-media/competitions/House%20Prices/kaggle_5407_media_housesbanner.png)\n",
    "\n",
    "<br>\n",
    "\n",
    "#### >> [Copy this notebook](https://www.kaggle.com/code/mohamedyosef101/house-prices-eda) in Kaggle\n",
    "\n",
    "<hr>"
   ]
  },
  {
   "cell_type": "markdown",
   "metadata": {},
   "source": [
    "# Step 0: Set the fire\n",
    "- Import the libraries\n",
    "- Load the data"
   ]
  },
  {
   "cell_type": "code",
   "execution_count": 1,
   "metadata": {},
   "outputs": [],
   "source": [
    "import numpy as np\n",
    "import pandas as pd\n",
    "import matplotlib.pyplot as plt\n",
    "import seaborn as sns\n",
    "\n",
    "trainData = pd.read_csv('data/train.csv')\n",
    "testData = pd.read_csv('data/test.csv')"
   ]
  },
  {
   "cell_type": "markdown",
   "metadata": {},
   "source": [
    "# Step 1: What's in the data?\n",
    "- Basic information about the data\n",
    "- Discover missing values"
   ]
  },
  {
   "cell_type": "markdown",
   "metadata": {},
   "source": [
    "### 1.1 Data info\n",
    "To have a visually appealing output, I'll use shape instead of info()"
   ]
  },
  {
   "cell_type": "code",
   "execution_count": 2,
   "metadata": {},
   "outputs": [
    {
     "data": {
      "text/plain": [
       "(1460, 81)"
      ]
     },
     "execution_count": 2,
     "metadata": {},
     "output_type": "execute_result"
    }
   ],
   "source": [
    "trainData.shape"
   ]
  },
  {
   "cell_type": "markdown",
   "metadata": {},
   "source": [
    "<div style=\"background: #e3eefc; padding: 24px 12px; color: #00a; font-weight: bold; margin: 4px 80px 4px 4px; border-radius: 4px;\">\n",
    "<p>Wow, we've about 79 feature!<p>\n",
    "<p style=\"color: #fc0000;\">And, I don't have enough time to discover them one by one</p>\n",
    "<p> So, I'll do some research and pick some features based on the research findings</p>\n",
    "</div>"
   ]
  },
  {
   "cell_type": "markdown",
   "metadata": {},
   "source": [
    "### 1.2 Missing values"
   ]
  },
  {
   "cell_type": "code",
   "execution_count": 3,
   "metadata": {},
   "outputs": [
    {
     "name": "stdout",
     "output_type": "stream",
     "text": [
      "              Missing_counts   Percent\n",
      "PoolQC                  1453  0.995205\n",
      "MiscFeature             1406  0.963014\n",
      "Alley                   1369  0.937671\n",
      "Fence                   1179  0.807534\n",
      "MasVnrType               872  0.597260\n",
      "FireplaceQu              690  0.472603\n",
      "LotFrontage              259  0.177397\n",
      "GarageType                81  0.055479\n",
      "GarageYrBlt               81  0.055479\n",
      "GarageFinish              81  0.055479\n",
      "GarageQual                81  0.055479\n",
      "GarageCond                81  0.055479\n",
      "BsmtFinType2              38  0.026027\n",
      "BsmtExposure              38  0.026027\n",
      "BsmtFinType1              37  0.025342\n",
      "BsmtCond                  37  0.025342\n",
      "BsmtQual                  37  0.025342\n",
      "MasVnrArea                 8  0.005479\n",
      "Electrical                 1  0.000685\n"
     ]
    }
   ],
   "source": [
    "# my fav missing values functions\n",
    "def get_missing_value_counts(data_frame):\n",
    "    missing_counts = data_frame.isnull().sum()\n",
    "    missing_counts = (missing_counts[missing_counts > 0]).sort_values(ascending=False)\n",
    "    \n",
    "    percent = data_frame.isnull().sum()/data_frame.isnull().count()\n",
    "    percent = (percent[percent > 0]).sort_values(ascending=False)\n",
    "    \n",
    "    missing_data = pd.concat([missing_counts, percent], axis=1, keys=['Missing_counts', 'Percent'])\n",
    "    return missing_data\n",
    "\n",
    "train_missing_values = get_missing_value_counts(trainData)\n",
    "print(train_missing_values)"
   ]
  },
  {
   "cell_type": "markdown",
   "metadata": {},
   "source": [
    "<div style=\"background: #e3eefc; padding: 24px 12px; color: #00a; font-weight: bold; margin: 4px 80px 4px 4px; border-radius: 4px;\">\n",
    "    <p>I think that removing Alley, PoolQC, Fence, and MiscFeature is likely to be the good choice</p>\n",
    "    <p style=\"color: #fc0000;\">But, I don't know what I should do with MasVnrType and FireplaceQu</p>\n",
    "</div>"
   ]
  },
  {
   "cell_type": "markdown",
   "metadata": {},
   "source": [
    "# Step 2: Explore some features\n",
    "I going to do bivariate analysis between the sale price and the following features:\n",
    "1. Building types\n",
    "2. zone\n",
    "3. street\n",
    "4. Property Age\n",
    "5. Living Area"
   ]
  },
  {
   "cell_type": "markdown",
   "metadata": {},
   "source": [
    "# 2.1 Building types"
   ]
  },
  {
   "cell_type": "code",
   "execution_count": null,
   "metadata": {},
   "outputs": [],
   "source": [
    "# Distribution of dwelling types\n",
    "plt.figure(figsize=(10, 6))\n",
    "sns.countplot(data=trainData, x='BldgType', palette='Set2')\n",
    "plt.title('Distribution of Building Types')\n",
    "plt.xlabel('Building Type')\n",
    "plt.ylabel('Count')\n",
    "plt.xticks(rotation=45)\n",
    "plt.tight_layout()\n",
    "plt.show()\n",
    "\n",
    "# Average Sale Price by Building Type\n",
    "plt.figure(figsize=(10, 6))\n",
    "sns.barplot(data=trainData, x='BldgType', y='SalePrice', palette='viridis', errorbar=None)\n",
    "plt.title('Average Sale Price by Building Type')\n",
    "plt.xlabel('Building Type')\n",
    "plt.ylabel('Price')\n",
    "plt.xticks(rotation=45)\n",
    "plt.tight_layout()\n",
    "plt.show()"
   ]
  },
  {
   "cell_type": "markdown",
   "metadata": {},
   "source": [
    "<div style=\"background: #e3eefc; padding: 24px 12px; color: #00a; font-weight: bold; margin: 4px 80px 4px 4px; border-radius: 4px;\">\n",
    "    <p>There are a lot of 1Fam houses and their price is higher than any other building type</p>\n",
    "    <p style=\"color: #fc0000;\">Also, there are less TwnhsE but it still have a high price</p>\n",
    "</div>"
   ]
  },
  {
   "cell_type": "markdown",
   "metadata": {},
   "source": [
    "# 2.2 Zoning"
   ]
  },
  {
   "cell_type": "code",
   "execution_count": null,
   "metadata": {},
   "outputs": [],
   "source": [
    "# 2. Zoning impact on sale price\n",
    "plt.figure(figsize=(10, 6))\n",
    "sns.barplot(data=trainData, x='MSZoning', y='SalePrice', errorbar=None, palette=['blue', 'green', 'red', 'black', 'gray'])\n",
    "plt.title('Average Sale Price by Zoning')\n",
    "plt.xlabel('Zoning')\n",
    "plt.ylabel('Sale Price')\n",
    "plt.xticks(rotation=45)\n",
    "plt.gca().yaxis.set_major_formatter('${:,.0f}'.format)  # Format y-axis ticks as currency\n",
    "plt.tight_layout()\n",
    "plt.show()"
   ]
  },
  {
   "cell_type": "markdown",
   "metadata": {},
   "source": [
    "<div style=\"background: #e3eefc; padding: 24px 12px; color: #00a; font-weight: bold; margin: 4px 80px 4px 4px; border-radius: 4px;\">\n",
    "    <p>You can find the most price in \"FV\" and \"RL while \"C\" is out of the game</p>\n",
    "</div>"
   ]
  },
  {
   "cell_type": "markdown",
   "metadata": {},
   "source": [
    "# 2.3 Street"
   ]
  },
  {
   "cell_type": "code",
   "execution_count": null,
   "metadata": {},
   "outputs": [],
   "source": [
    "# Street Prices\n",
    "street_prices = trainData.groupby('Street')['SalePrice'].mean()\n",
    "plt.figure(figsize=(10, 6))\n",
    "sns.barplot(data=trainData, x='Street', y='SalePrice', errorbar=None, palette=['blue', 'green'])\n",
    "plt.title('Average Sale Price by Street Type')\n",
    "plt.xlabel('Street Type')\n",
    "plt.ylabel('Sale Price')\n",
    "plt.xticks(rotation=0)\n",
    "plt.gca().yaxis.set_major_formatter('${:,.0f}'.format)  # Format y-axis ticks as currency\n",
    "plt.tight_layout()\n",
    "plt.show()"
   ]
  },
  {
   "cell_type": "markdown",
   "metadata": {},
   "source": [
    "<div style=\"background: #e3eefc; padding: 24px 12px; color: #00a; font-weight: bold; margin: 4px 80px 4px 4px; border-radius: 4px;\">\n",
    "    <p>Houses in Pave have much higher price</p>\n",
    "</div>"
   ]
  },
  {
   "cell_type": "markdown",
   "metadata": {},
   "source": [
    "# 2.4 Property Age"
   ]
  },
  {
   "cell_type": "code",
   "execution_count": null,
   "metadata": {},
   "outputs": [],
   "source": [
    "# Calculate Property Age\n",
    "trainData['PropertyAge'] = trainData['YrSold'] - trainData['YearBuilt']\n",
    "\n",
    "# Calculate Correlation between Property Age and Sale Price\n",
    "age_price_corr = trainData['PropertyAge'].corr(trainData['SalePrice'])\n",
    "print(f'Correlation between Property Age and Sale Price: {age_price_corr}')\n",
    "\n",
    "# Create a scatter plot to visualize the relationship between Property Age and Sale Price\n",
    "plt.figure(figsize=(10, 6))\n",
    "sns.scatterplot(data=trainData, x='PropertyAge', y='SalePrice', hue='PropertyAge', legend=False)\n",
    "plt.title('Property Age vs Sale Price')\n",
    "plt.xlabel('Property Age')\n",
    "plt.ylabel('Sale Price')\n",
    "plt.gca().xaxis.set_major_locator(plt.MaxNLocator(integer=True))  # Ensure integer values on x-axis\n",
    "plt.grid(True, linestyle='--', alpha=0.6)\n",
    "plt.show()"
   ]
  },
  {
   "cell_type": "markdown",
   "metadata": {},
   "source": [
    "<div style=\"background: #e3eefc; padding: 24px 12px; color: #00a; font-weight: bold; margin: 4px 80px 4px 4px; border-radius: 4px;\">\n",
    "    <p>It seems like the prices are nearly the same with some high prices for the houses that are less than 15 years old</p>\n",
    "</div>"
   ]
  },
  {
   "cell_type": "markdown",
   "metadata": {},
   "source": [
    "# 2.5 Living Area"
   ]
  },
  {
   "cell_type": "code",
   "execution_count": null,
   "metadata": {},
   "outputs": [],
   "source": [
    "living_area_price_corr = trainData['GrLivArea'].corr(trainData['SalePrice'])\n",
    "print(f'Correlation between Living Area (above grade) and Sale Price: {living_area_price_corr}')\n",
    "\n",
    "# Create a scatter plot to visualize the relationship between Living Area and Sale Price\n",
    "plt.figure(figsize=(10, 6))\n",
    "sns.scatterplot(data=trainData, x='GrLivArea', y='SalePrice', hue='GrLivArea', legend=False)\n",
    "plt.title('Living Area (above grade) vs Sale Price')\n",
    "plt.xlabel('Living Area (above grade)')\n",
    "plt.ylabel('Sale Price')\n",
    "plt.gca().xaxis.set_major_locator(plt.MaxNLocator(integer=True))  # Ensure integer values on x-axis\n",
    "plt.grid(True, linestyle='--', alpha=0.6)\n",
    "plt.show()"
   ]
  },
  {
   "cell_type": "markdown",
   "metadata": {},
   "source": [
    "<div style=\"background: #e3eefc; padding: 24px 12px; color: #00a; font-weight: bold; margin: 4px 80px 4px 4px; border-radius: 4px;\">\n",
    "    <p>Now this is my fav relation</p>\n",
    "</div>"
   ]
  },
  {
   "cell_type": "markdown",
   "metadata": {},
   "source": [
    "That's all for the exploratory data analysis. In the next notebook, I'll build the house prices prediction model."
   ]
  }
 ],
 "metadata": {
  "kernelspec": {
   "display_name": "Python 3",
   "language": "python",
   "name": "python3"
  },
  "language_info": {
   "codemirror_mode": {
    "name": "ipython",
    "version": 3
   },
   "file_extension": ".py",
   "mimetype": "text/x-python",
   "name": "python",
   "nbconvert_exporter": "python",
   "pygments_lexer": "ipython3",
   "version": "3.11.4"
  },
  "orig_nbformat": 4
 },
 "nbformat": 4,
 "nbformat_minor": 2
}
